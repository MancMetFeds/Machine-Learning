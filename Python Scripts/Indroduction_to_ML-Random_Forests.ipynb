{
 "cells": [
  {
   "cell_type": "markdown",
   "id": "81fe7040",
   "metadata": {},
   "source": [
    "# Kaggle Learn\n",
    "The content of this file is the product of my own learning by use of Kaggle Learn, The exersizes are my own answers to the content of the tutorials."
   ]
  },
  {
   "cell_type": "code",
   "execution_count": 19,
   "id": "39db1565",
   "metadata": {},
   "outputs": [],
   "source": [
    "import pandas as pd\n",
    "from sklearn.tree import DecisionTreeRegressor\n",
    "from sklearn.metrics import mean_absolute_error\n",
    "from sklearn.model_selection import train_test_split"
   ]
  },
  {
   "cell_type": "code",
   "execution_count": 33,
   "id": "2fde2e66",
   "metadata": {},
   "outputs": [],
   "source": [
    "path = './data/melb_data.csv'\n",
    "melbData = pd.read_csv(path)\n",
    "\n",
    "# Drop the missing data with missing information\n",
    "melbData = melbData.dropna(axis=0)\n",
    "response_y = melbData.Price \n",
    "model_features = ['Rooms', 'Bathroom', 'Landsize', 'BuildingArea', 'YearBuilt', 'Lattitude', 'Longtitude']\n",
    "X = melbData[model_features]\n",
    "melb_train_X, melb_val_X, melb_train_y, melb_val_y = train_test_split(X, response_y, random_state = 1)\n"
   ]
  },
  {
   "cell_type": "code",
   "execution_count": 34,
   "id": "5356b921",
   "metadata": {},
   "outputs": [
    {
     "name": "stdout",
     "output_type": "stream",
     "text": [
      "173864.25945341078\n"
     ]
    }
   ],
   "source": [
    "forest_model = RandomForestRegressor(random_state = 1)\n",
    "forest_model.fit(melb_train_X, melb_train_y)\n",
    "melb_preds = forest_model.predict(melb_val_X)\n",
    "print(mean_absolute_error(melb_val_y, melb_preds))"
   ]
  },
  {
   "cell_type": "markdown",
   "id": "3f705a6d",
   "metadata": {},
   "source": [
    "### Excersises"
   ]
  },
  {
   "cell_type": "code",
   "execution_count": 60,
   "id": "97954e1b",
   "metadata": {},
   "outputs": [],
   "source": [
    "path = './data/train.csv'\n",
    "iowaData = pd.read_csv(path)\n",
    "y = iowaData.SalePrice\n",
    "model_features = [\"LotArea\",\"YearBuilt\",\"1stFlrSF\",\"2ndFlrSF\",\"FullBath\",\"BedroomAbvGr\",\"TotRmsAbvGrd\"]\n",
    "X = iowaData[model_features]\n",
    "train_X, test_X, train_y, test_y = train_test_split(X, y, random_state = 1)"
   ]
  },
  {
   "cell_type": "code",
   "execution_count": 69,
   "id": "949e3f19",
   "metadata": {},
   "outputs": [
    {
     "name": "stdout",
     "output_type": "stream",
     "text": [
      "the lowest mean absolute error is 21772 for 230 nodes\n"
     ]
    }
   ],
   "source": [
    "# this portion is my own implementation\n",
    "best_max_depth = 0\n",
    "lowest_mae = 0\n",
    "\n",
    "\n",
    "def MAE(n, train_X, test_X, train_y, test_y):\n",
    "    \n",
    "    rfModel = RandomForestRegressor(max_leaf_nodes = n, random_state = 1)\n",
    "    rfModel.fit(train_X,train_y)\n",
    "    preds = rfModel.predict(test_X)\n",
    "    return mean_absolute_error(test_y, preds)\n",
    "        \n",
    "for n in range(5,1001, 25):\n",
    "    mae = MAE(n, train_X, test_X, train_y, test_y)\n",
    "    if lowest_mae == 0:\n",
    "        best_max_depth = n\n",
    "        lowest_mae = mae\n",
    "    elif mae < lowest_mae:\n",
    "        best_max_depth = n\n",
    "        lowest_mae = mae \n",
    "print(\"the lowest mean absolute error is %d for %d nodes\" %(lowest_mae, best_max_depth))"
   ]
  },
  {
   "cell_type": "code",
   "execution_count": 70,
   "id": "ff72ad27",
   "metadata": {},
   "outputs": [
    {
     "name": "stdout",
     "output_type": "stream",
     "text": [
      "21772.602994978482\n"
     ]
    }
   ],
   "source": [
    "rfModel = RandomForestRegressor(max_leaf_nodes= best_max_depth, random_state = 1)\n",
    "rfModel.fit(train_X,train_y)\n",
    "preds =rfModel.predict(test_X)\n",
    "print(mean_absolute_error(test_y, preds))"
   ]
  },
  {
   "cell_type": "code",
   "execution_count": null,
   "id": "8289fb2c",
   "metadata": {},
   "outputs": [],
   "source": []
  }
 ],
 "metadata": {
  "kernelspec": {
   "display_name": "Python 3 (ipykernel)",
   "language": "python",
   "name": "python3"
  },
  "language_info": {
   "codemirror_mode": {
    "name": "ipython",
    "version": 3
   },
   "file_extension": ".py",
   "mimetype": "text/x-python",
   "name": "python",
   "nbconvert_exporter": "python",
   "pygments_lexer": "ipython3",
   "version": "3.11.5"
  }
 },
 "nbformat": 4,
 "nbformat_minor": 5
}
